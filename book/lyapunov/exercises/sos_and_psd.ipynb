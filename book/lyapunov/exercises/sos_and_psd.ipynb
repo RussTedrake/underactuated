{
 "cells": [
  {
   "cell_type": "code",
   "execution_count": 1,
   "metadata": {},
   "outputs": [],
   "source": [
    "import matplotlib.pyplot as plt\n",
    "import numpy as np\n",
    "import pydrake.symbolic as sym\n",
    "from matplotlib import cm, projections\n",
    "from mpl_toolkits.mplot3d import Axes3D\n",
    "\n",
    "projections.register_projection(Axes3D)  # needed for Bazel\n",
    "from pydrake.all import MathematicalProgram, Solve"
   ]
  },
  {
   "cell_type": "markdown",
   "metadata": {
    "cell_id": "dc55603eb6e247919920cb473c2d4de1",
    "deepnote_cell_type": "markdown"
   },
   "source": [
    "# SOS and Positive Semi-Definite functions\n",
    "In this exercise we will empirically see that not all positive semi-definite functions have a sum-of-squares representation. We consider the following three polynomial functions for this purpose:\n",
    "\n",
    "1. $f_1(x, y) = x^4y^2 + x^2y^4 + 1 - 3x^2y^2$\n",
    "2. $f_2(x, y) = x^4 + 3y^4 - 2xy^3$\n",
    "3. $f_3(x, y, z; \\lambda) = z^6 + x^2y^2(x^2 + y^2 - 3\\lambda z^2)$, where $0 < \\lambda \\le 1$."
   ]
  },
  {
   "cell_type": "code",
   "execution_count": 2,
   "metadata": {
    "cell_id": "86ec861a939d45dbb2ade172b29d9277",
    "deepnote_cell_type": "code",
    "deepnote_to_be_reexecuted": false,
    "execution_millis": 3,
    "execution_start": 1678930837423,
    "source_hash": "269d5d73",
    "tags": []
   },
   "outputs": [],
   "source": [
    "def f1(x):\n",
    "    return x[0] ** 4 * x[1] ** 2 + x[0] ** 2 * x[1] ** 4 + 1 - 3 * x[0] ** 2 * x[1] ** 2\n",
    "\n",
    "\n",
    "def f2(x):\n",
    "    return x[0] ** 4 + 3 * x[1] ** 4 - 2 * x[0] * x[1] ** 3\n",
    "\n",
    "\n",
    "def f3(x, a):\n",
    "    return x[2] ** 6 + x[0] ** 2 * x[1] ** 2 * (\n",
    "        x[0] ** 2 + x[1] ** 2 - 3 * a * x[2] ** 2\n",
    "    )"
   ]
  },
  {
   "cell_type": "markdown",
   "metadata": {
    "cell_id": "add0095121c540588477e4e5a3fd7aab",
    "deepnote_cell_type": "markdown",
    "tags": []
   },
   "source": [
    "**First, let us check whether the above functions admit an SOS representation.**\n",
    "\n",
    "This can be verified using a single SOS constraint on the functions. In case of $f_3$, think about what one particular value of $\\lambda$ is enough to search for an SOS representation for any $0 < \\lambda \\le 1$."
   ]
  },
  {
   "cell_type": "code",
   "execution_count": 3,
   "metadata": {
    "cell_id": "ea56a93a690243ffb9387f3383543def",
    "deepnote_cell_type": "code",
    "deepnote_to_be_reexecuted": false,
    "execution_millis": 2,
    "execution_start": 1678930837424,
    "source_hash": "e45f6f2d",
    "tags": []
   },
   "outputs": [],
   "source": [
    "# code for checking SOS polynomials goes below"
   ]
  },
  {
   "cell_type": "markdown",
   "metadata": {
    "cell_id": "59c6682c56414cc5ada33eeb6089c8dc",
    "deepnote_cell_type": "markdown",
    "tags": []
   },
   "source": [
    "Write the result in the next cell.\n"
   ]
  },
  {
   "cell_type": "code",
   "execution_count": 5,
   "metadata": {
    "cell_id": "81b9087a4d6e4713b6a36fba964d630d",
    "deepnote_cell_type": "code",
    "deepnote_to_be_reexecuted": false,
    "execution_millis": 3,
    "execution_start": 1678930838239,
    "source_hash": "da6e330c",
    "tags": []
   },
   "outputs": [],
   "source": [
    "is_function_sos = [False, False, False]  # MODIFY HERE"
   ]
  },
  {
   "cell_type": "markdown",
   "metadata": {
    "cell_id": "7302d5714a6a4fbaa9dacf6c0571ddf8",
    "deepnote_cell_type": "markdown",
    "tags": []
   },
   "source": [
    "**Now, let us find whether the above polynomial functions are positive semi-definite, that is, $f(\\mathbf{x}) \\ge 0$.**\n",
    "You can try plotting the functions for a certain range of $\\mathbf{x}$ values, or find the minimum of $f(\\mathbf{x})$ by obtaining the roots of $\\nabla f(\\mathbf{x}) = \\mathbf{0}$.\n",
    "\n",
    "If you choose to verify by plotting the functions for some interval of $\\mathbf{x}$ values (say $\\mathbf{x} \\in [-1, 1]^2$), reason for yourself why the chosen set is sufficient for verification. Also note that it becomes difficult to visualize functions as number of variables increases beyond two.\n",
    "**Note**: We assume that the the discreteness used in plotting is sufficient to capture the bumps in the function values (the plots have enough resolution that we do not skip any negative value in our plots)."
   ]
  },
  {
   "cell_type": "markdown",
   "metadata": {
    "cell_id": "c14fa1585363482ca4b5df7869b46dde",
    "deepnote_cell_type": "markdown",
    "tags": []
   },
   "source": [
    "In the next cell, write down which functions are positive semi-definite."
   ]
  },
  {
   "cell_type": "code",
   "execution_count": 7,
   "metadata": {
    "cell_id": "a0d880c1c928471a88583523ad7343e3",
    "deepnote_cell_type": "code",
    "deepnote_to_be_reexecuted": false,
    "execution_millis": 2,
    "execution_start": 1678930838285,
    "source_hash": "5a8fda6b",
    "tags": []
   },
   "outputs": [],
   "source": [
    "is_function_psd = [False, False, False]  # MODIFY HERE"
   ]
  },
  {
   "cell_type": "markdown",
   "metadata": {
    "cell_id": "59851441de7e4763975762c10c4726e3",
    "deepnote_cell_type": "markdown",
    "tags": []
   },
   "source": [
    "Following is an example code for plotting a 2D function."
   ]
  },
  {
   "cell_type": "code",
   "execution_count": null,
   "metadata": {
    "cell_id": "c1fd31f4ffa7487e897614eb1b432ce0",
    "deepnote_cell_type": "code",
    "deepnote_to_be_reexecuted": false,
    "execution_millis": 664,
    "execution_start": 1678930838327,
    "source_hash": "401ef5cd",
    "tags": []
   },
   "outputs": [],
   "source": [
    "# grid resolution and range\n",
    "grid_res = 100\n",
    "x_lims = (0, 1)\n",
    "y_lims = (0, 1)\n",
    "func = f2\n",
    "\n",
    "# Get function values over a meshgrid\n",
    "x = np.linspace(x_lims[0], x_lims[1], num=grid_res)\n",
    "y = np.linspace(y_lims[0], y_lims[1], num=grid_res)\n",
    "X, Y = np.meshgrid(x, y)\n",
    "\n",
    "Z = np.zeros((len(x), len(y)))\n",
    "for i in range(len(x)):\n",
    "    for j in range(len(y)):\n",
    "        Z[i, j] = func([x[i], y[j]])\n",
    "\n",
    "# add a figure\n",
    "fig = plt.figure(figsize=(12, 6))\n",
    "\n",
    "# subplot 1: 2D heatmap\n",
    "ax1 = fig.add_subplot(1, 2, 1)\n",
    "c = ax1.pcolormesh(x, y, Z, cmap=\"plasma\", vmin=np.min(Z), vmax=np.max(Z))\n",
    "ax1.set_title(f\"$\\min \\; f_2(x, y) = {np.min(Z)}$\")\n",
    "ax1.axis([x.min(), x.max(), y.min(), y.max()])\n",
    "ax1.set_aspect(\"equal\")\n",
    "ax1.set_xlabel(\"x\")\n",
    "ax1.set_ylabel(\"y\")\n",
    "fig.colorbar(c, ax=ax1)\n",
    "\n",
    "# subplot 2: 3D surface plot\n",
    "ax2 = fig.add_subplot(1, 2, 2, projection=\"3d\")\n",
    "ax2.plot_surface(\n",
    "    X,\n",
    "    Y,\n",
    "    Z,\n",
    "    rstride=1,\n",
    "    cstride=1,\n",
    "    facecolors=cm.plasma(Z / np.amax(Z)),\n",
    "    linewidth=0,\n",
    "    antialiased=False,\n",
    "    shade=False,\n",
    "    alpha=0.3,\n",
    ")\n",
    "ax2.set_xlabel(\"x\")\n",
    "ax2.set_ylabel(\"y\")\n",
    "ax2.set_zlabel(\"z\")\n",
    "ax2.set_title(f\"$f_2(x, y)$\")\n",
    "\n",
    "plt.show()"
   ]
  },
  {
   "cell_type": "markdown",
   "metadata": {
    "cell_id": "bb9a5bd066b149838ca6c8b02df81423",
    "deepnote_cell_type": "markdown",
    "tags": []
   },
   "source": [
    "Thus, we see that a function may be positive semi-definite functions even if it does not admit a SOS representation."
   ]
  },
  {
   "cell_type": "markdown",
   "metadata": {
    "cell_id": "d8a4f37e2c3941f4b1c4a9df52390ee2",
    "deepnote_cell_type": "markdown",
    "tags": []
   },
   "source": [
    "**Fun Exercise: Can we use SOS programming to find lower bounds for these polynomials?**\n",
    "An alternative condition for a polynomial to be positive semi-definite is finding a lower bound larger than or equal to $0$, i.e., there exists $\\gamma$ such that $f(x) -\\gamma \\geq 0$ and $\\gamma \\geq 0$.\n",
    "\n",
    "A **necessary** condition for these conditions is that we can find $\\gamma \\geq 0$ such that $f(x) - \\gamma$ is SOS. The cell block below implements such a SOS programming problem to search for maximum lower bound $\\gamma$. Run the cell blocks to see whether the lower bound can be found for each of these polynomials and how tight the lower bounds are (if found successfully)."
   ]
  },
  {
   "cell_type": "code",
   "execution_count": 10,
   "metadata": {
    "cell_id": "a59e5b19f1f745a6a043503f271483bc",
    "deepnote_cell_type": "code",
    "deepnote_to_be_reexecuted": false,
    "execution_millis": 17,
    "execution_start": 1678932998480,
    "source_hash": "6d423fc7",
    "tags": []
   },
   "outputs": [],
   "source": [
    "def check_lb_sos(f, num_var=2):\n",
    "    prog = MathematicalProgram()\n",
    "    x = prog.NewIndeterminates(num_var, \"x\")\n",
    "    c = prog.NewContinuousVariables(1)\n",
    "    func = sym.Polynomial(f(x))\n",
    "    prog.AddSosConstraint(func - c[0])\n",
    "\n",
    "    prog.AddCost(-c[0])\n",
    "    result = Solve(prog)\n",
    "    return result.is_success(), result.GetSolution(c)"
   ]
  },
  {
   "cell_type": "code",
   "execution_count": null,
   "metadata": {
    "cell_id": "5a9c6d01a31b4a60a6c3aeffb4561648",
    "deepnote_cell_type": "code",
    "deepnote_to_be_reexecuted": false,
    "execution_millis": 4,
    "execution_start": 1678933118024,
    "source_hash": "c93b0f0c",
    "tags": []
   },
   "outputs": [],
   "source": [
    "success_1, c_1 = check_lb_sos(f1, num_var=2)\n",
    "success_2, c_2 = check_lb_sos(f2, num_var=2)\n",
    "success_3, c_3 = check_lb_sos(lambda x: f3(x, 1), num_var=3)\n",
    "print(\"Lower bound found for f1: \", success_1)\n",
    "print(\"Lower bound found for f2: \", c_2[0])\n",
    "print(\"Lower bound found for f3: \", success_3)"
   ]
  },
  {
   "cell_type": "markdown",
   "metadata": {
    "cell_id": "541c7de5ee3a4353bf29d5ffe0f160b4",
    "deepnote_cell_type": "markdown",
    "tags": []
   },
   "source": [
    "## Autograding\n",
    "You can check your work by runnig the next cell. Only your responses for `is_function_sos` and `is_function_psd` are graded."
   ]
  },
  {
   "cell_type": "code",
   "execution_count": null,
   "metadata": {
    "cell_id": "01f33f40c23e4a2892af1cf60806d587",
    "deepnote_cell_type": "code",
    "deepnote_to_be_reexecuted": false,
    "execution_millis": 2410,
    "execution_start": 1678930839035,
    "source_hash": "b477c32c",
    "tags": []
   },
   "outputs": [],
   "source": [
    "from underactuated.exercises.grader import Grader\n",
    "from underactuated.exercises.lyapunov.test_sos_and_psd import TestSOSandPSD\n",
    "\n",
    "Grader.grade_output([TestSOSandPSD], [locals()], \"results.json\")\n",
    "Grader.print_test_results(\"results.json\")"
   ]
  }
 ],
 "metadata": {
  "kernelspec": {
   "display_name": "venv",
   "language": "python",
   "name": "python3"
  },
  "language_info": {
   "codemirror_mode": {
    "name": "ipython",
    "version": 3
   },
   "file_extension": ".py",
   "mimetype": "text/x-python",
   "name": "python",
   "nbconvert_exporter": "python",
   "pygments_lexer": "ipython3",
   "version": "3.10.12"
  }
 },
 "nbformat": 4,
 "nbformat_minor": 1
}